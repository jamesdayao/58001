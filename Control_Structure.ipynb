{
  "nbformat": 4,
  "nbformat_minor": 0,
  "metadata": {
    "colab": {
      "provenance": [],
      "authorship_tag": "ABX9TyNUm8WXqta8U0b0+Xynu+gE",
      "include_colab_link": true
    },
    "kernelspec": {
      "name": "python3",
      "display_name": "Python 3"
    },
    "language_info": {
      "name": "python"
    }
  },
  "cells": [
    {
      "cell_type": "markdown",
      "metadata": {
        "id": "view-in-github",
        "colab_type": "text"
      },
      "source": [
        "<a href=\"https://colab.research.google.com/github/jamesdayao/OOP-58001/blob/main/Control_Structure.ipynb\" target=\"_parent\"><img src=\"https://colab.research.google.com/assets/colab-badge.svg\" alt=\"Open In Colab\"/></a>"
      ]
    },
    {
      "cell_type": "markdown",
      "source": [
        "Powerpoint Example"
      ],
      "metadata": {
        "id": "mlHX-yQ2S0CC"
      }
    },
    {
      "cell_type": "markdown",
      "source": [
        "Conditional Statement"
      ],
      "metadata": {
        "id": "hybY04jpD0Eu"
      }
    },
    {
      "cell_type": "code",
      "execution_count": 2,
      "metadata": {
        "colab": {
          "base_uri": "https://localhost:8080/"
        },
        "id": "LTly_rwGDwHC",
        "outputId": "cb8181f7-d8dc-4b1d-b293-deca5dcb55ff"
      },
      "outputs": [
        {
          "output_type": "stream",
          "name": "stdout",
          "text": [
            "B is greater than A\n"
          ]
        }
      ],
      "source": [
        "#If Statement\n",
        "a = 12\n",
        "b = 100\n",
        "\n",
        "if b > a:\n",
        "  print(\"B is greater than A\")"
      ]
    },
    {
      "cell_type": "code",
      "source": [
        "#Elif Statement\n",
        "a = 12\n",
        "b = 12\n",
        "\n",
        "if b > a:\n",
        "  print(\"B is greater than A\")\n",
        "\n",
        "elif a == b:\n",
        "  print(\"A and B are equal\")"
      ],
      "metadata": {
        "colab": {
          "base_uri": "https://localhost:8080/"
        },
        "id": "C6rfxk72EkfX",
        "outputId": "cbb5fb5f-fd87-4a1a-a1d4-053e0382f41b"
      },
      "execution_count": 3,
      "outputs": [
        {
          "output_type": "stream",
          "name": "stdout",
          "text": [
            "A and B are equal\n"
          ]
        }
      ]
    },
    {
      "cell_type": "code",
      "source": [
        "#Else Statement\n",
        "a = 200\n",
        "b = 33\n",
        "\n",
        "if b > a:\n",
        "  print(\"B is greater than A\")\n",
        "\n",
        "elif a == b:\n",
        "  print(\"A and B are equal\")\n",
        "\n",
        "else:\n",
        "  print(\"A is greater than B\")"
      ],
      "metadata": {
        "colab": {
          "base_uri": "https://localhost:8080/"
        },
        "id": "KEtP2aahE9Gt",
        "outputId": "d444e06c-1f1d-472d-fb6a-b673fcfb17c5"
      },
      "execution_count": 11,
      "outputs": [
        {
          "output_type": "stream",
          "name": "stdout",
          "text": [
            "A is greater than B\n"
          ]
        }
      ]
    },
    {
      "cell_type": "code",
      "source": [
        "#Short Hand If Statement\n",
        "a = 200\n",
        "b = 33\n",
        "\n",
        "if a > b: print(\"A is greater than B\")"
      ],
      "metadata": {
        "colab": {
          "base_uri": "https://localhost:8080/"
        },
        "id": "EVFFzuo3FZid",
        "outputId": "9c9a0f74-f029-43da-a1b1-d01520f28bfc"
      },
      "execution_count": 10,
      "outputs": [
        {
          "output_type": "stream",
          "name": "stdout",
          "text": [
            "A is greater than B\n"
          ]
        }
      ]
    },
    {
      "cell_type": "code",
      "source": [
        "#Short Hand If Else Statement\n",
        "a = 2\n",
        "b = 33\n",
        "\n",
        "print(\"A\") if a > b else print(\"B\")"
      ],
      "metadata": {
        "colab": {
          "base_uri": "https://localhost:8080/"
        },
        "id": "qE7cRreIWkqu",
        "outputId": "17643a6f-75d1-4e45-f639-22f59094aa18"
      },
      "execution_count": 100,
      "outputs": [
        {
          "output_type": "stream",
          "name": "stdout",
          "text": [
            "B\n"
          ]
        }
      ]
    },
    {
      "cell_type": "code",
      "source": [
        "#And-both conditions are true\n",
        "a = 200\n",
        "b = 33\n",
        "c = 500\n",
        "\n",
        "if a > b and c > a:\n",
        "  print(\"Both conditions are True\")"
      ],
      "metadata": {
        "colab": {
          "base_uri": "https://localhost:8080/"
        },
        "id": "5ncXyfD2W8mf",
        "outputId": "342d24a5-bbc9-41b1-e918-962e4bdf8b5f"
      },
      "execution_count": 101,
      "outputs": [
        {
          "output_type": "stream",
          "name": "stdout",
          "text": [
            "Both conditions are True\n"
          ]
        }
      ]
    },
    {
      "cell_type": "code",
      "source": [
        "#Or-at least one of the conditions is true\n",
        "a = 200\n",
        "b = 33\n",
        "c = 500\n",
        "\n",
        "if a > b or a > c:\n",
        "  print(\"At least one of the conditions is True\")"
      ],
      "metadata": {
        "colab": {
          "base_uri": "https://localhost:8080/"
        },
        "id": "lMvS5UV6XGX_",
        "outputId": "c8d191c4-54bf-4ae2-98b7-6d7b1e573d71"
      },
      "execution_count": 102,
      "outputs": [
        {
          "output_type": "stream",
          "name": "stdout",
          "text": [
            "At least one of the conditions is True\n"
          ]
        }
      ]
    },
    {
      "cell_type": "markdown",
      "source": [
        "Nested If"
      ],
      "metadata": {
        "id": "dbOKhZN1XaCg"
      }
    },
    {
      "cell_type": "code",
      "source": [
        "#Nested If\n",
        "x = 41\n",
        "\n",
        "if x > 10:\n",
        "  print(\"Above 10, \")\n",
        "  if x > 20:\n",
        "    print(\"and also above 20!\")\n",
        "    \n",
        "else:\n",
        " print(\"but not above 20.\")"
      ],
      "metadata": {
        "colab": {
          "base_uri": "https://localhost:8080/"
        },
        "id": "zx7QE943XbXW",
        "outputId": "10c57e01-367f-4054-b5a2-af70e17641c4"
      },
      "execution_count": 103,
      "outputs": [
        {
          "output_type": "stream",
          "name": "stdout",
          "text": [
            "Above 10, \n",
            "and also above 20!\n"
          ]
        }
      ]
    },
    {
      "cell_type": "markdown",
      "source": [
        "On Site Example"
      ],
      "metadata": {
        "id": "UcaAAsHGSwcD"
      }
    },
    {
      "cell_type": "code",
      "source": [
        "#Input Variable Value\n",
        "x = input()\n",
        "y = input()\n",
        "\n",
        "if x > y:\n",
        "  print(x + \"is greater than\" + y)\n",
        "\n",
        "elif y > x:\n",
        "  print(y + \"is greater than\" + x)"
      ],
      "metadata": {
        "colab": {
          "base_uri": "https://localhost:8080/"
        },
        "id": "WDyA_snZGCYd",
        "outputId": "4544e6f3-3825-42fb-9d3e-221564f8f5e6"
      },
      "execution_count": 32,
      "outputs": [
        {
          "output_type": "stream",
          "name": "stdout",
          "text": [
            "1\n",
            "2\n",
            "2is greater than1\n"
          ]
        }
      ]
    },
    {
      "cell_type": "code",
      "source": [
        "#Else Statement\n",
        "a = input()\n",
        "b = input()\n",
        "\n",
        "if a > b:\n",
        "  print(\"a is greater than b\")\n",
        "\n",
        "elif b > a:\n",
        "  print(\"b is greater than a\")\n",
        "\n",
        "else:\n",
        "  print(\"a and b are equal\")"
      ],
      "metadata": {
        "colab": {
          "base_uri": "https://localhost:8080/"
        },
        "id": "f718juGeH-sw",
        "outputId": "c52bc933-1a95-4ea5-a6e5-1d675009d776"
      },
      "execution_count": 39,
      "outputs": [
        {
          "output_type": "stream",
          "name": "stdout",
          "text": [
            "100\n",
            "100\n",
            "a and b are equal\n"
          ]
        }
      ]
    },
    {
      "cell_type": "code",
      "source": [
        "#Nested If\n",
        "x = 41\n",
        "\n",
        "if x > 10:\n",
        "  print(\"Above 10, \")\n",
        "  if x > 20:\n",
        "    print(\"and also above 20!\")\n",
        "    if x > 30:\n",
        "      print(\"and also above 30!\")\n",
        "      if x > 40:\n",
        "        print(\"and also above 40!\")\n",
        "      else:\n",
        "        print(\"but not above 40\")\n",
        "    else:\n",
        "      print(\"but not above 30.\")\n",
        "  else:\n",
        "    print(\"but not above 20.\")\n",
        "\n",
        "else:\n",
        "  print(\"but not above 10.\")"
      ],
      "metadata": {
        "colab": {
          "base_uri": "https://localhost:8080/"
        },
        "id": "WarksJcRIoY_",
        "outputId": "2bc93648-e299-4192-f49b-b035f7977250"
      },
      "execution_count": 59,
      "outputs": [
        {
          "output_type": "stream",
          "name": "stdout",
          "text": [
            "Above 10, \n",
            "and also above 20!\n",
            "and also above 30!\n",
            "and also above 40!\n"
          ]
        }
      ]
    },
    {
      "cell_type": "markdown",
      "source": [
        "Example 1"
      ],
      "metadata": {
        "id": "9EvUAC1NNL0Z"
      }
    },
    {
      "cell_type": "code",
      "source": [
        "age = float(input())\n",
        "\n",
        "if age >= 18:\n",
        "  print(\"You are of age to Vote!\")\n",
        "\n",
        "else:\n",
        "  print(\"You are not of age to Vote.\")"
      ],
      "metadata": {
        "colab": {
          "base_uri": "https://localhost:8080/"
        },
        "id": "LlnhoycYNNIv",
        "outputId": "a865b5a1-2662-4910-f1c2-af0a6ce6c659"
      },
      "execution_count": 66,
      "outputs": [
        {
          "output_type": "stream",
          "name": "stdout",
          "text": [
            "18\n",
            "You are of age to Vote!\n"
          ]
        }
      ]
    },
    {
      "cell_type": "markdown",
      "source": [
        "Example 2"
      ],
      "metadata": {
        "id": "ixLokh1UOAYQ"
      }
    },
    {
      "cell_type": "code",
      "source": [
        "a = int(input())\n",
        "\n",
        "if a > 0:\n",
        "  print(\"POSITIVE\")\n",
        "\n",
        "elif a < 0:\n",
        "  print(\"NEGATIVE\")\n",
        "\n",
        "else:\n",
        " print(\"ZERO\")"
      ],
      "metadata": {
        "colab": {
          "base_uri": "https://localhost:8080/"
        },
        "id": "Oxx5mbO4OEEn",
        "outputId": "d9240c54-2ae5-4b86-bcd2-e363206ceb8b"
      },
      "execution_count": 78,
      "outputs": [
        {
          "output_type": "stream",
          "name": "stdout",
          "text": [
            "0\n",
            "ZERO\n"
          ]
        }
      ]
    },
    {
      "cell_type": "markdown",
      "source": [
        "Example 3"
      ],
      "metadata": {
        "id": "7Y3o0HkQPbnf"
      }
    },
    {
      "cell_type": "code",
      "source": [
        "grade = float(input())\n",
        "\n",
        "if grade >= 70 and grade <= 100:\n",
        "  print(\"Passed\")\n",
        "\n",
        "elif grade >= 65 and grade < 70:\n",
        "  print(\"Remedial\")\n",
        "\n",
        "elif grade < 65 and grade >= 0:\n",
        "  print(\"Failed\")\n",
        "\n",
        "else:\n",
        "  print(\"Invalid Input\")"
      ],
      "metadata": {
        "colab": {
          "base_uri": "https://localhost:8080/"
        },
        "id": "Y_qqEcVVPaq4",
        "outputId": "b81456ef-0e1c-415c-a945-52574630de43"
      },
      "execution_count": 98,
      "outputs": [
        {
          "output_type": "stream",
          "name": "stdout",
          "text": [
            "101\n",
            "Invalid Input\n"
          ]
        }
      ]
    }
  ]
}