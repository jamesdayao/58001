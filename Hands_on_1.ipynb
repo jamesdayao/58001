{
  "nbformat": 4,
  "nbformat_minor": 0,
  "metadata": {
    "colab": {
      "provenance": [],
      "authorship_tag": "ABX9TyPrqWgrh5T08VxkKjYQiYCT",
      "include_colab_link": true
    },
    "kernelspec": {
      "name": "python3",
      "display_name": "Python 3"
    },
    "language_info": {
      "name": "python"
    }
  },
  "cells": [
    {
      "cell_type": "markdown",
      "metadata": {
        "id": "view-in-github",
        "colab_type": "text"
      },
      "source": [
        "<a href=\"https://colab.research.google.com/github/jamesdayao/OOP-58001/blob/main/Hands_on_1.ipynb\" target=\"_parent\"><img src=\"https://colab.research.google.com/assets/colab-badge.svg\" alt=\"Open In Colab\"/></a>"
      ]
    },
    {
      "cell_type": "code",
      "execution_count": 35,
      "metadata": {
        "colab": {
          "base_uri": "https://localhost:8080/"
        },
        "id": "n6nkJuALZSc4",
        "outputId": "8cbf8554-02b9-4639-e154-44255173ff0c"
      },
      "outputs": [
        {
          "output_type": "stream",
          "name": "stdout",
          "text": [
            "Prelim Grade: 32\n",
            "Midterm Grade: 51\n",
            "Final Grade: 513\n",
            "Student 1 Average:  198.66666666666666\n",
            "Prelim Grade: 23\n",
            "Midterm Grade: 58\n",
            "Final Grade: 99\n",
            "Student 2 Average:  60.0\n",
            "Prelim Grade: 98\n",
            "Midterm Grade: 45\n",
            "Final Grade: 16\n",
            "Student 3 Average:  53.0\n",
            "Prelim Grade: 12\n",
            "Midterm Grade: 12\n",
            "Final Grade: 12\n",
            "Student 1 Average:  12.0\n",
            "Prelim Grade: 98\n",
            "Midterm Grade: 98\n",
            "Final Grade: 98\n",
            "Student 2 Average:  98.0\n",
            "Prelim Grade: 98\n",
            "Midterm Grade: 98\n",
            "Final Grade: 98\n",
            "Student 3 Average:  98.0\n"
          ]
        }
      ],
      "source": [
        "class Person:\n",
        "  def __init__ (self, std1, std2, std3, pre, mid, fin):\n",
        "    self.__std1 = std1\n",
        "    self.__std2 = std2\n",
        "    self.__std3 = std3\n",
        "    self.__pre = pre\n",
        "    self.__mid = mid\n",
        "    self.__fin = fin\n",
        "\n",
        "  def grade(self):\n",
        "    return (self.__pre + self.__mid + self.__fin) / 3\n",
        "\n",
        "  def display1(self):\n",
        "    print(self.__std1, self.grade())\n",
        "\n",
        "  def display2(self):\n",
        "    print(self.__std2, self.grade())\n",
        "\n",
        "  def display3(self):\n",
        "    print(self.__std3, self.grade())\n",
        "\n",
        "class Student1(Person):\n",
        "  std1 = Person(\"Student 1 Average: \", 0, 0, float(input(\"Prelim Grade: \")), float(input(\"Midterm Grade: \")), float(input(\"Final Grade: \")))\n",
        "  std1.display1()\n",
        "\n",
        "class Student2(Person):\n",
        "  std2 = Person(0, \"Student 2 Average: \", 0, float(input(\"Prelim Grade: \")), float(input(\"Midterm Grade: \")), float(input(\"Final Grade: \")))\n",
        "  std2.display2()\n",
        "\n",
        "class Student3(Person):\n",
        "  std3 = Person(0, 0, \"Student 3 Average: \", float(input(\"Prelim Grade: \")), float(input(\"Midterm Grade: \")), float(input(\"Final Grade: \")))\n",
        "  std3.display3()"
      ]
    }
  ]
}