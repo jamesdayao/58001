{
  "nbformat": 4,
  "nbformat_minor": 0,
  "metadata": {
    "colab": {
      "provenance": [],
      "include_colab_link": true
    },
    "kernelspec": {
      "name": "python3",
      "display_name": "Python 3"
    },
    "language_info": {
      "name": "python"
    }
  },
  "cells": [
    {
      "cell_type": "markdown",
      "metadata": {
        "id": "view-in-github",
        "colab_type": "text"
      },
      "source": [
        "<a href=\"https://colab.research.google.com/github/jamesdayao/OOP-58001/blob/main/Lab_Activity_2.ipynb\" target=\"_parent\"><img src=\"https://colab.research.google.com/assets/colab-badge.svg\" alt=\"Open In Colab\"/></a>"
      ]
    },
    {
      "cell_type": "code",
      "execution_count": 2,
      "metadata": {
        "colab": {
          "base_uri": "https://localhost:8080/"
        },
        "id": "VVqSVyHPNpL1",
        "outputId": "42dc02ce-27cd-47f7-f795-0369e0321f73"
      },
      "outputs": [
        {
          "output_type": "stream",
          "name": "stdout",
          "text": [
            "Enter Radius: 3\n",
            "Area =  28.27431 cm\n",
            "Perimeter = 18.849539999999998 cm\n"
          ]
        }
      ],
      "source": [
        "class Circle:\n",
        "\n",
        "  def __init__(self, pi, radius):\n",
        "    self.pi = pi\n",
        "    self.radius = radius\n",
        "  \n",
        "  def perimeter(self):\n",
        "    return 2 * self.pi * self.radius\n",
        "\n",
        "  def area(self):\n",
        "    return self.pi * self.radius ** 2\n",
        "\n",
        "  def display(self):\n",
        "    print(\"Area = \", self.area(),\"cm\")\n",
        "    print(\"Perimeter =\", self.perimeter(),\"cm\")\n",
        "\n",
        "rad = float(input(\"Enter Radius: \"))\n",
        "\n",
        "info = Circle(3.14159, rad)\n",
        "info.display()"
      ]
    }
  ]
}