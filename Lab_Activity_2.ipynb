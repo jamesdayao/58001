{
  "nbformat": 4,
  "nbformat_minor": 0,
  "metadata": {
    "colab": {
      "provenance": [],
      "authorship_tag": "ABX9TyMf6Qylh98YzjX7Gqvnshhq",
      "include_colab_link": true
    },
    "kernelspec": {
      "name": "python3",
      "display_name": "Python 3"
    },
    "language_info": {
      "name": "python"
    }
  },
  "cells": [
    {
      "cell_type": "markdown",
      "metadata": {
        "id": "view-in-github",
        "colab_type": "text"
      },
      "source": [
        "<a href=\"https://colab.research.google.com/github/jamesdayao/OOP-58001/blob/main/Lab_Activity_2.ipynb\" target=\"_parent\"><img src=\"https://colab.research.google.com/assets/colab-badge.svg\" alt=\"Open In Colab\"/></a>"
      ]
    },
    {
      "cell_type": "code",
      "execution_count": 39,
      "metadata": {
        "colab": {
          "base_uri": "https://localhost:8080/"
        },
        "id": "VVqSVyHPNpL1",
        "outputId": "78e885e2-a95b-414b-e32c-5c5f70757332"
      },
      "outputs": [
        {
          "output_type": "stream",
          "name": "stdout",
          "text": [
            "25.13272 cm\n",
            "50.26544 cm\n"
          ]
        }
      ],
      "source": [
        "class Circle:\n",
        "\n",
        "  def __init__(self, pi, radius):\n",
        "    self.pi = pi\n",
        "    self.radius = radius\n",
        "  \n",
        "  def perimeter(self):\n",
        "    return 2 * self.pi * self.radius\n",
        "\n",
        "  def area(self):\n",
        "    return self.pi * self.radius ** 2\n",
        "\n",
        "  def display(self):\n",
        "    print(self.perimeter(),\"cm\")\n",
        "    print(self.area(),\"cm\")\n",
        "\n",
        "info = Circle(3.14159, 4)\n",
        "info.display()"
      ]
    }
  ]
}