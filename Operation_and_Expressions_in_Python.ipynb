{
  "nbformat": 4,
  "nbformat_minor": 0,
  "metadata": {
    "colab": {
      "provenance": [],
      "authorship_tag": "ABX9TyNosTcExaLLUu7M7y8OCse9",
      "include_colab_link": true
    },
    "kernelspec": {
      "name": "python3",
      "display_name": "Python 3"
    },
    "language_info": {
      "name": "python"
    }
  },
  "cells": [
    {
      "cell_type": "markdown",
      "metadata": {
        "id": "view-in-github",
        "colab_type": "text"
      },
      "source": [
        "<a href=\"https://colab.research.google.com/github/jamesdayao/OOP-58001/blob/main/Operation_and_Expressions_in_Python.ipynb\" target=\"_parent\"><img src=\"https://colab.research.google.com/assets/colab-badge.svg\" alt=\"Open In Colab\"/></a>"
      ]
    },
    {
      "cell_type": "markdown",
      "source": [
        "Boolean Operators"
      ],
      "metadata": {
        "id": "CrbLJkajSzdf"
      }
    },
    {
      "cell_type": "code",
      "execution_count": 5,
      "metadata": {
        "colab": {
          "base_uri": "https://localhost:8080/"
        },
        "id": "9VrsngrBSNhY",
        "outputId": "67347ed1-cf7f-42ab-ab90-df81bb816fc1"
      },
      "outputs": [
        {
          "output_type": "stream",
          "name": "stdout",
          "text": [
            "True\n",
            "False\n",
            "False\n"
          ]
        }
      ],
      "source": [
        "print(10 > 9)\n",
        "print(10 == 9)\n",
        "print(10 < 9)"
      ]
    },
    {
      "cell_type": "markdown",
      "source": [
        ".Bool() Function"
      ],
      "metadata": {
        "id": "Bmt27BvfUiGO"
      }
    },
    {
      "cell_type": "code",
      "source": [
        "print(bool(\"Jim\"))\n",
        "print(bool(1))\n",
        "print(bool(0))\n",
        "print(bool(None))\n",
        "print(bool(True))"
      ],
      "metadata": {
        "colab": {
          "base_uri": "https://localhost:8080/"
        },
        "id": "2J_mid4KUhUG",
        "outputId": "26076b41-89eb-4214-fc7e-cda9373e944d"
      },
      "execution_count": 12,
      "outputs": [
        {
          "output_type": "stream",
          "name": "stdout",
          "text": [
            "True\n",
            "True\n",
            "True\n",
            "False\n",
            "False\n"
          ]
        }
      ]
    },
    {
      "cell_type": "markdown",
      "source": [
        "Function can Return a Boolean"
      ],
      "metadata": {
        "id": "18nQjYkGVShe"
      }
    },
    {
      "cell_type": "code",
      "source": [
        "#Create your own function.\n",
        "def Jim():\n",
        "  return True\n",
        "\n",
        "print(Jim())"
      ],
      "metadata": {
        "colab": {
          "base_uri": "https://localhost:8080/"
        },
        "id": "golXSWUeVXou",
        "outputId": "5de8dd35-0124-4b5d-9274-6140c6ba79c6"
      },
      "execution_count": 26,
      "outputs": [
        {
          "output_type": "stream",
          "name": "stdout",
          "text": [
            "True\n"
          ]
        }
      ]
    },
    {
      "cell_type": "code",
      "source": [
        "def Jim():\n",
        "  return True\n",
        "\n",
        "if Jim():\n",
        "  print(\"Pogi\")\n",
        "\n",
        "else:\n",
        "  print(\"Pogi parin\")"
      ],
      "metadata": {
        "colab": {
          "base_uri": "https://localhost:8080/"
        },
        "id": "gtmfxL-uWv4b",
        "outputId": "1d5f5a9e-428f-4ff6-fe80-3b647774cbef"
      },
      "execution_count": 31,
      "outputs": [
        {
          "output_type": "stream",
          "name": "stdout",
          "text": [
            "Pogi\n"
          ]
        }
      ]
    },
    {
      "cell_type": "markdown",
      "source": [
        "Application "
      ],
      "metadata": {
        "id": "-LblKQcFXRH5"
      }
    },
    {
      "cell_type": "code",
      "source": [
        "print (10 > 9)\n",
        "\n",
        "a = 6\n",
        "b = 7\n",
        "\n",
        "print(a == b)\n",
        "print(a != a)"
      ],
      "metadata": {
        "colab": {
          "base_uri": "https://localhost:8080/"
        },
        "id": "NA4ndCqsXWt5",
        "outputId": "3809292d-ca91-4857-df3d-1d7f49830247"
      },
      "execution_count": 32,
      "outputs": [
        {
          "output_type": "stream",
          "name": "stdout",
          "text": [
            "True\n",
            "False\n",
            "False\n"
          ]
        }
      ]
    },
    {
      "cell_type": "markdown",
      "source": [
        "Python Operators"
      ],
      "metadata": {
        "id": "TC-Y6XRrX3TC"
      }
    },
    {
      "cell_type": "code",
      "source": [
        "print(10 + 5)\n",
        "print(10 - 5)\n",
        "print(10 * 5)\n",
        "print(10 / 5)\n",
        "print(10 % 5)\n",
        "print(10 // 3)\n",
        "print(10 ** 2)"
      ],
      "metadata": {
        "colab": {
          "base_uri": "https://localhost:8080/"
        },
        "id": "915xv3sUX44i",
        "outputId": "b13ebb89-daff-4a0d-f705-94ebd87ee796"
      },
      "execution_count": 35,
      "outputs": [
        {
          "output_type": "stream",
          "name": "stdout",
          "text": [
            "15\n",
            "5\n",
            "50\n",
            "2.0\n",
            "0\n",
            "3\n",
            "100\n"
          ]
        }
      ]
    },
    {
      "cell_type": "markdown",
      "source": [
        "Bitwise Operators"
      ],
      "metadata": {
        "id": "ly6bjRp6ZgHu"
      }
    },
    {
      "cell_type": "code",
      "source": [
        "a = 60\n",
        "b = 13\n",
        "\n",
        "a >> 1"
      ],
      "metadata": {
        "colab": {
          "base_uri": "https://localhost:8080/"
        },
        "id": "Gxn4GbAqZhJm",
        "outputId": "600437cf-2401-435e-c5dc-0721da17a800"
      },
      "execution_count": 49,
      "outputs": [
        {
          "output_type": "execute_result",
          "data": {
            "text/plain": [
              "30"
            ]
          },
          "metadata": {},
          "execution_count": 49
        }
      ]
    },
    {
      "cell_type": "markdown",
      "source": [
        "Python Assignment Operators"
      ],
      "metadata": {
        "id": "RjuOT1u6g-5d"
      }
    },
    {
      "cell_type": "code",
      "source": [
        "x = 5\n",
        "\n",
        "x += 3  #same as x = x + 3\n",
        "\n",
        "x -= 3  #same as x = x - 3\n",
        "\n",
        "x *= 3  #same as x = x * 3\n",
        "\n",
        "x /= 3   #same as x = x / 3\n",
        "\n",
        "x %= 3   #same as x = x % 3\n",
        "\n",
        "print(x)"
      ],
      "metadata": {
        "colab": {
          "base_uri": "https://localhost:8080/"
        },
        "id": "dAVI31n5g_gt",
        "outputId": "bb0c7fc5-94f0-447c-a725-7d45d9ae85bf"
      },
      "execution_count": 63,
      "outputs": [
        {
          "output_type": "execute_result",
          "data": {
            "text/plain": [
              "2.0"
            ]
          },
          "metadata": {},
          "execution_count": 63
        }
      ]
    },
    {
      "cell_type": "markdown",
      "source": [
        ".Logical Operators"
      ],
      "metadata": {
        "id": "JxFsdXNijQx7"
      }
    },
    {
      "cell_type": "code",
      "source": [
        "a = True\n",
        "b = False\n",
        "\n",
        "print(not a)\n",
        "print(a and b)"
      ],
      "metadata": {
        "colab": {
          "base_uri": "https://localhost:8080/"
        },
        "id": "aWS817VpjTBy",
        "outputId": "a405df9f-e099-4911-f8b8-d5e9291e1e0a"
      },
      "execution_count": 64,
      "outputs": [
        {
          "output_type": "stream",
          "name": "stdout",
          "text": [
            "False\n",
            "False\n"
          ]
        }
      ]
    },
    {
      "cell_type": "markdown",
      "source": [
        "Identity Operators"
      ],
      "metadata": {
        "id": "Bl67MDGzj8gG"
      }
    },
    {
      "cell_type": "code",
      "source": [
        "#and or xor not\n",
        "a = True\n",
        "b = False\n",
        "\n",
        "print(a is a)\n",
        "print(a is b)"
      ],
      "metadata": {
        "colab": {
          "base_uri": "https://localhost:8080/"
        },
        "id": "lXOx2r2lj-5e",
        "outputId": "81bffdfc-76ad-4fc3-a3f0-fbbef951abf2"
      },
      "execution_count": 73,
      "outputs": [
        {
          "output_type": "stream",
          "name": "stdout",
          "text": [
            "True\n",
            "False\n"
          ]
        }
      ]
    }
  ]
}