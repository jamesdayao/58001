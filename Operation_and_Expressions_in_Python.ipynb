{
  "nbformat": 4,
  "nbformat_minor": 0,
  "metadata": {
    "colab": {
      "provenance": [],
      "authorship_tag": "ABX9TyMi/Z02uUe804Jkt9Y35pdW",
      "include_colab_link": true
    },
    "kernelspec": {
      "name": "python3",
      "display_name": "Python 3"
    },
    "language_info": {
      "name": "python"
    }
  },
  "cells": [
    {
      "cell_type": "markdown",
      "metadata": {
        "id": "view-in-github",
        "colab_type": "text"
      },
      "source": [
        "<a href=\"https://colab.research.google.com/github/jamesdayao/OOP-58001/blob/main/Operation_and_Expressions_in_Python.ipynb\" target=\"_parent\"><img src=\"https://colab.research.google.com/assets/colab-badge.svg\" alt=\"Open In Colab\"/></a>"
      ]
    },
    {
      "cell_type": "markdown",
      "source": [
        "Boolean Operators"
      ],
      "metadata": {
        "id": "CrbLJkajSzdf"
      }
    },
    {
      "cell_type": "code",
      "execution_count": null,
      "metadata": {
        "colab": {
          "base_uri": "https://localhost:8080/"
        },
        "id": "9VrsngrBSNhY",
        "outputId": "67347ed1-cf7f-42ab-ab90-df81bb816fc1"
      },
      "outputs": [
        {
          "output_type": "stream",
          "name": "stdout",
          "text": [
            "True\n",
            "False\n",
            "False\n"
          ]
        }
      ],
      "source": [
        "print(10 > 9)\n",
        "print(10 == 9)\n",
        "print(10 < 9)"
      ]
    },
    {
      "cell_type": "markdown",
      "source": [
        ".Bool() Function"
      ],
      "metadata": {
        "id": "Bmt27BvfUiGO"
      }
    },
    {
      "cell_type": "code",
      "source": [
        "#Almost any value is evauated to True if it has some sort of content.\n",
        "\n",
        "print(bool(\"Jim\"))\n",
        "print(bool(1))\n",
        "print(bool(True))"
      ],
      "metadata": {
        "colab": {
          "base_uri": "https://localhost:8080/"
        },
        "id": "2J_mid4KUhUG",
        "outputId": "19e3e219-c37d-41f2-a18b-7bbf5c7e0d4d"
      },
      "execution_count": 43,
      "outputs": [
        {
          "output_type": "stream",
          "name": "stdout",
          "text": [
            "True\n",
            "True\n",
            "True\n",
            "True\n"
          ]
        }
      ]
    },
    {
      "cell_type": "code",
      "source": [
        "#All empty space/set will output False\n",
        "\n",
        "print(bool(False))\n",
        "print(bool(None))\n",
        "print(bool(0))\n",
        "print(bool(\"\"))\n",
        "print(bool(()))\n",
        "print(bool([]))\n",
        "print(bool({}))"
      ],
      "metadata": {
        "id": "MRnqVWQg9wEj",
        "outputId": "41d102e1-0c88-4bf9-dd65-b00e53936403",
        "colab": {
          "base_uri": "https://localhost:8080/"
        }
      },
      "execution_count": 44,
      "outputs": [
        {
          "output_type": "stream",
          "name": "stdout",
          "text": [
            "False\n",
            "False\n",
            "False\n",
            "False\n",
            "False\n",
            "False\n",
            "False\n"
          ]
        }
      ]
    },
    {
      "cell_type": "markdown",
      "source": [
        "Function can Return a Boolean"
      ],
      "metadata": {
        "id": "18nQjYkGVShe"
      }
    },
    {
      "cell_type": "code",
      "source": [
        "#Create your own function.\n",
        "\n",
        "def Jim():\n",
        "  return True\n",
        "\n",
        "print(Jim())"
      ],
      "metadata": {
        "colab": {
          "base_uri": "https://localhost:8080/"
        },
        "id": "golXSWUeVXou",
        "outputId": "317b6d41-b36a-4563-a049-89fa7b9a5850"
      },
      "execution_count": 46,
      "outputs": [
        {
          "output_type": "stream",
          "name": "stdout",
          "text": [
            "True\n"
          ]
        }
      ]
    },
    {
      "cell_type": "code",
      "source": [
        "def Jim():\n",
        "  return True\n",
        "\n",
        "if Jim():\n",
        "  print(\"Pogi\")\n",
        "\n",
        "else:\n",
        "  print(\"Pogi parin\")"
      ],
      "metadata": {
        "colab": {
          "base_uri": "https://localhost:8080/"
        },
        "id": "gtmfxL-uWv4b",
        "outputId": "9aa9dd70-5801-4ecc-ad2c-cbcf76c7793f"
      },
      "execution_count": 48,
      "outputs": [
        {
          "output_type": "stream",
          "name": "stdout",
          "text": [
            "Pogi\n"
          ]
        }
      ]
    },
    {
      "cell_type": "markdown",
      "source": [
        "Application "
      ],
      "metadata": {
        "id": "-LblKQcFXRH5"
      }
    },
    {
      "cell_type": "code",
      "source": [
        "print (10 > 9)\n",
        "\n",
        "a = 6\n",
        "b = 7\n",
        "\n",
        "print(a == b)\n",
        "print(a != a)"
      ],
      "metadata": {
        "colab": {
          "base_uri": "https://localhost:8080/"
        },
        "id": "NA4ndCqsXWt5",
        "outputId": "efe5aa4b-53f6-43b6-d428-c6c4bc2e4bb9"
      },
      "execution_count": 49,
      "outputs": [
        {
          "output_type": "stream",
          "name": "stdout",
          "text": [
            "True\n",
            "False\n",
            "False\n"
          ]
        }
      ]
    },
    {
      "cell_type": "markdown",
      "source": [
        "Python Operators"
      ],
      "metadata": {
        "id": "TC-Y6XRrX3TC"
      }
    },
    {
      "cell_type": "code",
      "source": [
        "print(10 + 5)\n",
        "print(10 - 5)\n",
        "print(10 * 5)\n",
        "print(10 / 5)\n",
        "print(10 % 5)\n",
        "print(10 // 3)\n",
        "print(10 ** 2)"
      ],
      "metadata": {
        "colab": {
          "base_uri": "https://localhost:8080/"
        },
        "id": "915xv3sUX44i",
        "outputId": "b13ebb89-daff-4a0d-f705-94ebd87ee796"
      },
      "execution_count": null,
      "outputs": [
        {
          "output_type": "stream",
          "name": "stdout",
          "text": [
            "15\n",
            "5\n",
            "50\n",
            "2.0\n",
            "0\n",
            "3\n",
            "100\n"
          ]
        }
      ]
    },
    {
      "cell_type": "markdown",
      "source": [
        "Bitwise Operators"
      ],
      "metadata": {
        "id": "ly6bjRp6ZgHu"
      }
    },
    {
      "cell_type": "code",
      "source": [
        "# (&) Binary AND\n",
        "a = 60\n",
        "b = 13\n",
        "\n",
        "print(a & b)"
      ],
      "metadata": {
        "colab": {
          "base_uri": "https://localhost:8080/"
        },
        "id": "Gxn4GbAqZhJm",
        "outputId": "93769f4c-da83-4c7d-c210-48aecb024488"
      },
      "execution_count": 22,
      "outputs": [
        {
          "output_type": "stream",
          "name": "stdout",
          "text": [
            "12\n"
          ]
        }
      ]
    },
    {
      "cell_type": "code",
      "source": [
        "# (|) Binary OR\n",
        "a = 60\n",
        "b = 13\n",
        "\n",
        "print(a | b)"
      ],
      "metadata": {
        "id": "ui_SsMHQ6hqj",
        "outputId": "4627003e-f931-4b4d-d260-bc91cae8b03e",
        "colab": {
          "base_uri": "https://localhost:8080/"
        }
      },
      "execution_count": 25,
      "outputs": [
        {
          "output_type": "stream",
          "name": "stdout",
          "text": [
            "61\n"
          ]
        }
      ]
    },
    {
      "cell_type": "code",
      "source": [
        "# (^) Binary XOR\n",
        "a = 60\n",
        "b = 13\n",
        "\n",
        "print(a ^ b)"
      ],
      "metadata": {
        "id": "9r4UXmWH6ezY",
        "outputId": "c7330228-a798-4744-ede7-c7d93b636ad4",
        "colab": {
          "base_uri": "https://localhost:8080/"
        }
      },
      "execution_count": 24,
      "outputs": [
        {
          "output_type": "stream",
          "name": "stdout",
          "text": [
            "49\n"
          ]
        }
      ]
    },
    {
      "cell_type": "code",
      "source": [
        "# (~) Binary Ones Complement\n",
        "a = 60\n",
        "b = 13\n",
        "\n",
        "print(~ a)\n",
        "print(~ b)"
      ],
      "metadata": {
        "id": "yHSTO3OL6dBK",
        "outputId": "1defd645-1272-4a82-dc74-808daa492869",
        "colab": {
          "base_uri": "https://localhost:8080/"
        }
      },
      "execution_count": 23,
      "outputs": [
        {
          "output_type": "stream",
          "name": "stdout",
          "text": [
            "-61\n",
            "-14\n"
          ]
        }
      ]
    },
    {
      "cell_type": "code",
      "source": [
        "# Binary A Left Shift\n",
        "a = 60\n",
        "b = 13\n",
        "\n",
        "print(a << 1)\n",
        "print(a << 2)\n",
        "print(a << 3)"
      ],
      "metadata": {
        "id": "Fa66F8Jl57Km",
        "outputId": "3167e01e-8b5d-4697-cb36-335525b82c37",
        "colab": {
          "base_uri": "https://localhost:8080/"
        }
      },
      "execution_count": 27,
      "outputs": [
        {
          "output_type": "stream",
          "name": "stdout",
          "text": [
            "120\n",
            "240\n",
            "480\n"
          ]
        }
      ]
    },
    {
      "cell_type": "code",
      "source": [
        "# Binary B Left Shift\n",
        "a = 60\n",
        "b = 13\n",
        "\n",
        "print(b << 1)\n",
        "print(b << 2)\n",
        "print(b << 3)"
      ],
      "metadata": {
        "id": "tdIPvOsn6LqK",
        "outputId": "cce66ce0-175a-4eaf-a28b-0dfdce2f50bb",
        "colab": {
          "base_uri": "https://localhost:8080/"
        }
      },
      "execution_count": 26,
      "outputs": [
        {
          "output_type": "stream",
          "name": "stdout",
          "text": [
            "26\n",
            "52\n",
            "104\n"
          ]
        }
      ]
    },
    {
      "cell_type": "code",
      "source": [
        "# Binary A Right Shift\n",
        "a = 60\n",
        "b = 13\n",
        "\n",
        "print(a >> 1)\n",
        "print(a >> 2)\n",
        "print(a >> 3)"
      ],
      "metadata": {
        "id": "Hu2menlt6xXq",
        "outputId": "78752be9-6245-407a-85f5-f940df6cf685",
        "colab": {
          "base_uri": "https://localhost:8080/"
        }
      },
      "execution_count": 28,
      "outputs": [
        {
          "output_type": "stream",
          "name": "stdout",
          "text": [
            "30\n",
            "15\n",
            "7\n"
          ]
        }
      ]
    },
    {
      "cell_type": "code",
      "source": [
        "# Binary B Right Shift\n",
        "a = 60\n",
        "b = 13\n",
        "\n",
        "print(b >> 1)\n",
        "print(b >> 2)\n",
        "print(b >> 3)"
      ],
      "metadata": {
        "id": "ygjL2fly6xq4",
        "outputId": "6455193e-fe7a-48d7-cd39-f9e5cd52c4d5",
        "colab": {
          "base_uri": "https://localhost:8080/"
        }
      },
      "execution_count": 29,
      "outputs": [
        {
          "output_type": "stream",
          "name": "stdout",
          "text": [
            "6\n",
            "3\n",
            "1\n"
          ]
        }
      ]
    },
    {
      "cell_type": "markdown",
      "source": [
        "Python Assignment Operators"
      ],
      "metadata": {
        "id": "RjuOT1u6g-5d"
      }
    },
    {
      "cell_type": "code",
      "source": [
        "x = 5\n",
        "\n",
        "x += 3  #same as x = x + 3\n",
        "\n",
        "x -= 3  #same as x = x - 3\n",
        "\n",
        "x *= 3  #same as x = x * 3\n",
        "\n",
        "x /= 3   #same as x = x / 3\n",
        "\n",
        "x %= 3   #same as x = x % 3\n",
        "\n",
        "print(x)"
      ],
      "metadata": {
        "colab": {
          "base_uri": "https://localhost:8080/"
        },
        "id": "dAVI31n5g_gt",
        "outputId": "5f6ecb20-51fb-46af-9630-1881aaf7ad3b"
      },
      "execution_count": 32,
      "outputs": [
        {
          "output_type": "stream",
          "name": "stdout",
          "text": [
            "2.0\n"
          ]
        }
      ]
    },
    {
      "cell_type": "markdown",
      "source": [
        "Logical Operators"
      ],
      "metadata": {
        "id": "JxFsdXNijQx7"
      }
    },
    {
      "cell_type": "code",
      "source": [
        "# and Logical AND\n",
        "a = True\n",
        "b = False\n",
        "\n",
        "print(a and b)\n",
        "print(b and a)"
      ],
      "metadata": {
        "colab": {
          "base_uri": "https://localhost:8080/"
        },
        "id": "aWS817VpjTBy",
        "outputId": "e4e27592-ba0f-4594-9c18-0109ab892431"
      },
      "execution_count": 37,
      "outputs": [
        {
          "output_type": "stream",
          "name": "stdout",
          "text": [
            "False\n",
            "False\n"
          ]
        }
      ]
    },
    {
      "cell_type": "code",
      "source": [
        "# or Logical OR\n",
        "a = True\n",
        "b = False\n",
        "\n",
        "print(a or b)\n",
        "print(b or a)"
      ],
      "metadata": {
        "id": "mK8mk8eQ8E6X",
        "outputId": "70c50baa-ea24-4d46-d251-ce29b75b7a22",
        "colab": {
          "base_uri": "https://localhost:8080/"
        }
      },
      "execution_count": 35,
      "outputs": [
        {
          "output_type": "stream",
          "name": "stdout",
          "text": [
            "True\n",
            "True\n"
          ]
        }
      ]
    },
    {
      "cell_type": "code",
      "source": [
        "# not Logical NOT\n",
        "a = True\n",
        "b = False\n",
        "\n",
        "print(not a)\n",
        "print(not b)"
      ],
      "metadata": {
        "id": "jn2XJAC28GlU",
        "outputId": "a4ba1fec-9968-4e7c-83a3-222595d6674f",
        "colab": {
          "base_uri": "https://localhost:8080/"
        }
      },
      "execution_count": 36,
      "outputs": [
        {
          "output_type": "stream",
          "name": "stdout",
          "text": [
            "False\n",
            "True\n"
          ]
        }
      ]
    },
    {
      "cell_type": "markdown",
      "source": [
        "Identity Operators"
      ],
      "metadata": {
        "id": "Bl67MDGzj8gG"
      }
    },
    {
      "cell_type": "code",
      "source": [
        "# is\n",
        "a = True\n",
        "b = False\n",
        "\n",
        "print(a is a)\n",
        "print(a is b)"
      ],
      "metadata": {
        "colab": {
          "base_uri": "https://localhost:8080/"
        },
        "id": "lXOx2r2lj-5e",
        "outputId": "6fb9855f-a96b-4138-8d3e-15e6c5c3fdf7"
      },
      "execution_count": 38,
      "outputs": [
        {
          "output_type": "stream",
          "name": "stdout",
          "text": [
            "True\n",
            "False\n"
          ]
        }
      ]
    },
    {
      "cell_type": "code",
      "source": [
        "# is not\n",
        "a = True\n",
        "b = False\n",
        "\n",
        "print(a is not a)\n",
        "print(a is not b)"
      ],
      "metadata": {
        "id": "BpS5j2I18eNf",
        "outputId": "5a2ed69c-926a-4741-8f49-221f863b5bba",
        "colab": {
          "base_uri": "https://localhost:8080/"
        }
      },
      "execution_count": 39,
      "outputs": [
        {
          "output_type": "stream",
          "name": "stdout",
          "text": [
            "False\n",
            "True\n"
          ]
        }
      ]
    }
  ]
}