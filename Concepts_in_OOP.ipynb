{
  "nbformat": 4,
  "nbformat_minor": 0,
  "metadata": {
    "colab": {
      "provenance": [],
      "authorship_tag": "ABX9TyNwBhhM3ZIybefZr0Jk9IwG",
      "include_colab_link": true
    },
    "kernelspec": {
      "name": "python3",
      "display_name": "Python 3"
    },
    "language_info": {
      "name": "python"
    }
  },
  "cells": [
    {
      "cell_type": "markdown",
      "metadata": {
        "id": "view-in-github",
        "colab_type": "text"
      },
      "source": [
        "<a href=\"https://colab.research.google.com/github/jamesdayao/OOP-58001/blob/main/Concepts_in_OOP.ipynb\" target=\"_parent\"><img src=\"https://colab.research.google.com/assets/colab-badge.svg\" alt=\"Open In Colab\"/></a>"
      ]
    },
    {
      "cell_type": "code",
      "execution_count": 1,
      "metadata": {
        "id": "25Y8KQPdPmTx"
      },
      "outputs": [],
      "source": [
        "#Class Constructor\n",
        "class Car:\n",
        "  pass"
      ]
    },
    {
      "cell_type": "code",
      "source": [
        "#Create a class and object\n",
        "class MyNumber:\n",
        "  x = 5\n",
        "\n",
        "num1 = MyNumber()\n",
        "print(num1.x)"
      ],
      "metadata": {
        "colab": {
          "base_uri": "https://localhost:8080/"
        },
        "id": "hbCbh_6kPxCA",
        "outputId": "d5d3ae80-926f-436b-91ba-8e5878e0da3c"
      },
      "execution_count": 2,
      "outputs": [
        {
          "output_type": "stream",
          "name": "stdout",
          "text": [
            "5\n"
          ]
        }
      ]
    },
    {
      "cell_type": "code",
      "source": [
        "class Person:\n",
        "  def __init__(self,name,age):\n",
        "    self.name = name\n",
        "    self.age = age\n",
        "\n",
        "person = Person(\"Jim\", \"20\")\n",
        "print(person.age)\n",
        "print(person.name)"
      ],
      "metadata": {
        "colab": {
          "base_uri": "https://localhost:8080/"
        },
        "id": "CfllUC9vP-f-",
        "outputId": "f9412a07-6db2-4cbe-b88e-bb0d087f2451"
      },
      "execution_count": 7,
      "outputs": [
        {
          "output_type": "stream",
          "name": "stdout",
          "text": [
            "20\n",
            "Jim\n"
          ]
        }
      ]
    },
    {
      "cell_type": "code",
      "source": [
        "class Person:\n",
        "  def __init__(self,name,age):\n",
        "    self.name = name\n",
        "    self.age = age\n",
        "\n",
        "  def myFunction(self):\n",
        "    print(\"Hello, my name is\", self.name)\n",
        "person = Person(\"Jim\", \"20\")\n",
        "\n",
        "person.myFunction()"
      ],
      "metadata": {
        "colab": {
          "base_uri": "https://localhost:8080/"
        },
        "id": "mQ6gXeDyREqP",
        "outputId": "d3fd50da-ad1a-420c-ea38-e52026e8cc82"
      },
      "execution_count": 24,
      "outputs": [
        {
          "output_type": "stream",
          "name": "stdout",
          "text": [
            "Hello, my name is Jim\n"
          ]
        }
      ]
    },
    {
      "cell_type": "code",
      "source": [
        "#Modify the Object Properties\n",
        "\n",
        "person.name = \"Jim\"\n",
        "print(person.name)\n",
        "person.myFunction()"
      ],
      "metadata": {
        "colab": {
          "base_uri": "https://localhost:8080/"
        },
        "id": "3faJJ8KFSKlj",
        "outputId": "f3e12a4c-fb05-40d2-c9e3-f6fec5579e3e"
      },
      "execution_count": 25,
      "outputs": [
        {
          "output_type": "stream",
          "name": "stdout",
          "text": [
            "Jim\n",
            "Hello, my name is Jim\n"
          ]
        }
      ]
    },
    {
      "cell_type": "code",
      "source": [
        "#Deletion of Object Properties\n",
        "\n",
        "del person.age\n",
        "person.myFunction()\n",
        "print(person.name)"
      ],
      "metadata": {
        "colab": {
          "base_uri": "https://localhost:8080/"
        },
        "id": "TjJej51TSQe8",
        "outputId": "7841e6d6-35fa-4c4f-d982-381bced9324f"
      },
      "execution_count": 26,
      "outputs": [
        {
          "output_type": "stream",
          "name": "stdout",
          "text": [
            "Hello, my name is Jim\n",
            "Jim\n"
          ]
        }
      ]
    },
    {
      "cell_type": "code",
      "source": [
        "#Compute for the area of Square\n",
        "\n",
        "class Shapes:\n",
        "  def __init__(self,side):        #Initial fucntion to name the attributes\n",
        "    self.side = side\n",
        "\n",
        "  def area(self):                 #method/formula to compute for the area of the square\n",
        "    return self.side*self.side\n",
        "\n",
        "  def display(self):              #method to display the area\n",
        "    print(\"The area of the square is\", self.area())\n",
        "  \n",
        "square = Shapes(4)\n",
        "square.display()"
      ],
      "metadata": {
        "colab": {
          "base_uri": "https://localhost:8080/"
        },
        "id": "-kNNcwR-S8pD",
        "outputId": "436f4d59-b3fe-45ee-fd73-d0e16d9e0271"
      },
      "execution_count": 36,
      "outputs": [
        {
          "output_type": "stream",
          "name": "stdout",
          "text": [
            "The area of the square is 16\n"
          ]
        }
      ]
    },
    {
      "cell_type": "code",
      "source": [
        "#Create a Python program with the following:\n",
        "#Student as class name\n",
        "#Full name, Student Number, and School as attribute names\n",
        "#Construct a method  to display the values of attributes\n",
        "#Use student as object name\n",
        "\n",
        "class Student:\n",
        "  def __init__(self,fullname,studentnumber,school): #Initial fucntion to name the attributes\n",
        "    self.fullname = fullname\n",
        "    self.studentnumber = studentnumber\n",
        "    self.school = school\n",
        "\n",
        "  def display(self):#method to display the area\n",
        "    print(\"Full Name:\",self.fullname)\n",
        "    print(\"Student Number:\", self.studentnumber)\n",
        "    print(\"School:\", self.school)\n",
        "  \n",
        "student = Student(\"James Dayao\", 202210436, \"Adamson University\")\n",
        "student.display()"
      ],
      "metadata": {
        "colab": {
          "base_uri": "https://localhost:8080/"
        },
        "id": "OAwfW91vUol9",
        "outputId": "e550e937-1bae-4307-8b86-61b047d4332c"
      },
      "execution_count": 38,
      "outputs": [
        {
          "output_type": "stream",
          "name": "stdout",
          "text": [
            "Full Name: James Dayao\n",
            "Student Number: 202210436\n",
            "School: Adamson University\n"
          ]
        }
      ]
    }
  ]
}