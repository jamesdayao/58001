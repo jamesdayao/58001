{
  "nbformat": 4,
  "nbformat_minor": 0,
  "metadata": {
    "colab": {
      "provenance": [],
      "authorship_tag": "ABX9TyMDJmz8q+0DW2ln4NOH3in7",
      "include_colab_link": true
    },
    "kernelspec": {
      "name": "python3",
      "display_name": "Python 3"
    },
    "language_info": {
      "name": "python"
    }
  },
  "cells": [
    {
      "cell_type": "markdown",
      "metadata": {
        "id": "view-in-github",
        "colab_type": "text"
      },
      "source": [
        "<a href=\"https://colab.research.google.com/github/jamesdayao/OOP-58001/blob/main/List%2C_Tuples%2C_and_Dictionaries.ipynb\" target=\"_parent\"><img src=\"https://colab.research.google.com/assets/colab-badge.svg\" alt=\"Open In Colab\"/></a>"
      ]
    },
    {
      "cell_type": "markdown",
      "source": [
        "Funtions"
      ],
      "metadata": {
        "id": "rjiNRoT2JQti"
      }
    },
    {
      "cell_type": "code",
      "execution_count": null,
      "metadata": {
        "id": "MOV_WXZ5JFHw"
      },
      "outputs": [],
      "source": [
        "#def function_name:\n",
        "#commands\n",
        "\n",
        "def remainder(n,m):\n",
        "  while True:\n",
        "    if n - m < 0:\n",
        "      return n\n",
        "    else:\n",
        "      "
      ]
    },
    {
      "cell_type": "code",
      "source": [
        "class Shapes:\n",
        "  def __init__(self, length, width):\n",
        "    self.length = length\n",
        "    self.width = width\n",
        "    \n",
        "  def area(self):\n",
        "    return self.length * self.width\n",
        "\n",
        "rectangle = Shapes(10,5)\n",
        "rectangle.area()\n"
      ],
      "metadata": {
        "colab": {
          "base_uri": "https://localhost:8080/"
        },
        "id": "7hCP8JXzLqdF",
        "outputId": "141009b3-5872-4cd3-a035-27df1eff2e7f"
      },
      "execution_count": 11,
      "outputs": [
        {
          "output_type": "execute_result",
          "data": {
            "text/plain": [
              "50"
            ]
          },
          "metadata": {},
          "execution_count": 11
        }
      ]
    },
    {
      "cell_type": "code",
      "source": [
        "pow(10,2)\n",
        "array = [\"apple\", \"banana\", \"orange\"]\n",
        "array.insert(0,\"cherry\")\n",
        "\n",
        "print(array)"
      ],
      "metadata": {
        "colab": {
          "base_uri": "https://localhost:8080/"
        },
        "id": "4_x2lsPNNQCd",
        "outputId": "8a67085e-4f25-441f-c82c-96b51839b88f"
      },
      "execution_count": 5,
      "outputs": [
        {
          "output_type": "stream",
          "name": "stdout",
          "text": [
            "['cherry', 'apple', 'banana', 'orange']\n"
          ]
        }
      ]
    },
    {
      "cell_type": "code",
      "source": [
        "#Create your own function that will show your full name and age\n",
        "#Using \n",
        "\n",
        "class Persons:\n",
        "  def __init__(self, first_name, middle_name, last_name, age):\n",
        "    self.first_name = first_name\n",
        "    self.middle_name = middle_name\n",
        "    self.last_name = last_name\n",
        "    self.age = age\n",
        "\n",
        "  def idol(self):\n",
        "    return self.first_name + self.middle_name + self.last_name + self.age\n",
        "\n",
        "info = Persons(\"James Bernard \", \"R. \", \"Dayao \", \"20 years old\")\n",
        "info.idol()\n",
        "\n"
      ],
      "metadata": {
        "colab": {
          "base_uri": "https://localhost:8080/",
          "height": 36
        },
        "id": "OBf9kpghOEFS",
        "outputId": "6a309d23-ce80-43ae-f7cb-08365a0282d2"
      },
      "execution_count": 32,
      "outputs": [
        {
          "output_type": "execute_result",
          "data": {
            "text/plain": [
              "'James Bernard R. Dayao 20 years old'"
            ],
            "application/vnd.google.colaboratory.intrinsic+json": {
              "type": "string"
            }
          },
          "metadata": {},
          "execution_count": 32
        }
      ]
    },
    {
      "cell_type": "code",
      "source": [
        "class Persons:\n",
        "  def __init__(self, name, age):\n",
        "    self.name = name\n",
        "    self.age = age\n",
        "\n",
        "  def idol(self):\n",
        "    return self.name + self.age\n",
        "\n",
        "info = Persons(\"James Bernard R. Dayao. \", \"I am 20 years old\")\n",
        "info.idol()"
      ],
      "metadata": {
        "colab": {
          "base_uri": "https://localhost:8080/",
          "height": 36
        },
        "id": "l9IL7n3xTAlj",
        "outputId": "097b0f2a-6d72-48d8-a5f9-c6b32def1986"
      },
      "execution_count": 51,
      "outputs": [
        {
          "output_type": "execute_result",
          "data": {
            "text/plain": [
              "'James Bernard R. Dayao. I am 20 years old'"
            ],
            "application/vnd.google.colaboratory.intrinsic+json": {
              "type": "string"
            }
          },
          "metadata": {},
          "execution_count": 51
        }
      ]
    },
    {
      "cell_type": "markdown",
      "source": [
        "List"
      ],
      "metadata": {
        "id": "pzgrtICxUssq"
      }
    },
    {
      "cell_type": "code",
      "source": [
        "pi = 3.14159\n",
        "grocery = ['abc', 1, 'def', 2]\n",
        "print(grocery[0])\n",
        "\n",
        "grocery.append('ghi')\n",
        "print(grocery)\n",
        "\n",
        "grocery.remove(2)\n",
        "print(grocery)\n",
        "\n",
        "grocery.insert(2,3)\n",
        "print(grocery)"
      ],
      "metadata": {
        "colab": {
          "base_uri": "https://localhost:8080/"
        },
        "id": "zSRqQT1MUt0a",
        "outputId": "575e638b-dcd9-4bdd-ed9d-4855a19e823c"
      },
      "execution_count": 42,
      "outputs": [
        {
          "output_type": "stream",
          "name": "stdout",
          "text": [
            "abc\n",
            "['abc', 1, 'def', 2, 'ghi']\n",
            "['abc', 1, 'def', 'ghi']\n",
            "['abc', 1, 'def', 3, 'ghi']\n"
          ]
        }
      ]
    },
    {
      "cell_type": "markdown",
      "source": [
        "Dictonaries"
      ],
      "metadata": {
        "id": "-kxieO27WHoi"
      }
    },
    {
      "cell_type": "code",
      "source": [
        "students = {\n",
        "    1: \"jim\",\n",
        "    2: \"min\",\n",
        "    3: \"tin\",\n",
        "    4: \"kin\",\n",
        "    5: \"lim\"\n",
        "}\n",
        "print(students)\n",
        "print(students[1])"
      ],
      "metadata": {
        "colab": {
          "base_uri": "https://localhost:8080/"
        },
        "id": "h22du31LWIza",
        "outputId": "4ce12892-3561-46c4-cce9-a7565f564391"
      },
      "execution_count": 50,
      "outputs": [
        {
          "output_type": "stream",
          "name": "stdout",
          "text": [
            "{1: 'jim', 2: 'min', 3: 'tin', 4: 'kin', 5: 'lim'}\n",
            "jim\n"
          ]
        }
      ]
    }
  ]
}