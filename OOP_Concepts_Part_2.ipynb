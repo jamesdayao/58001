{
  "nbformat": 4,
  "nbformat_minor": 0,
  "metadata": {
    "colab": {
      "provenance": [],
      "authorship_tag": "ABX9TyMRlpFfEhXbIPLrUNPvHtgE",
      "include_colab_link": true
    },
    "kernelspec": {
      "name": "python3",
      "display_name": "Python 3"
    },
    "language_info": {
      "name": "python"
    }
  },
  "cells": [
    {
      "cell_type": "markdown",
      "metadata": {
        "id": "view-in-github",
        "colab_type": "text"
      },
      "source": [
        "<a href=\"https://colab.research.google.com/github/jamesdayao/OOP-58001/blob/main/OOP_Concepts_Part_2.ipynb\" target=\"_parent\"><img src=\"https://colab.research.google.com/assets/colab-badge.svg\" alt=\"Open In Colab\"/></a>"
      ]
    },
    {
      "cell_type": "code",
      "execution_count": 8,
      "metadata": {
        "colab": {
          "base_uri": "https://localhost:8080/"
        },
        "id": "ZjGggntXVxXO",
        "outputId": "7bd60a70-b858-44ec-c2d9-af2b52f7a6b0"
      },
      "outputs": [
        {
          "output_type": "stream",
          "name": "stdout",
          "text": [
            "Griffon Vulture flies above clouds\n",
            "Common Crane flies above clouds\n",
            "Emu is the national bird of the Philippines\n"
          ]
        }
      ],
      "source": [
        "#Class with multiple objects\n",
        "\n",
        "class Birds:\n",
        "  \n",
        "  def __init__ (self, bird_name):\n",
        "    self.bird_name = bird_name\n",
        "  \n",
        "  def flying_birds(self):\n",
        "    print(f\"{self.bird_name} flies above clouds\")\n",
        "  def non_flying_birds(self):\n",
        "    print(f\"{self.bird_name} is the national bird of the Philippines\")\n",
        "\n",
        "vulture = Birds(\"Griffon Vulture\")\n",
        "crane = Birds(\"Common Crane\")\n",
        "emu = Birds(\"Emu\")\n",
        "\n",
        "vulture.flying_birds()\n",
        "crane.flying_birds()\n",
        "emu.non_flying_birds()"
      ]
    },
    {
      "cell_type": "code",
      "source": [
        "#Encapsulation\n",
        "\n",
        "class foo:\n",
        "  \n",
        "  def __init__(self, a, b):\n",
        "    self.a = a\n",
        "    self.b = b\n",
        "  \n",
        "  def add(self):\n",
        "    return self.a + self.b\n",
        "\n",
        "foo_object = foo(3,4)\n",
        "foo_object.add()"
      ],
      "metadata": {
        "colab": {
          "base_uri": "https://localhost:8080/"
        },
        "id": "cmiANLptYwPR",
        "outputId": "14f10363-29ae-44f8-fcb3-b0ed5590549d"
      },
      "execution_count": 17,
      "outputs": [
        {
          "output_type": "execute_result",
          "data": {
            "text/plain": [
              "7"
            ]
          },
          "metadata": {},
          "execution_count": 17
        }
      ]
    },
    {
      "cell_type": "code",
      "source": [
        "class foo:\n",
        "  \n",
        "  def __init__(self, a, b):\n",
        "    self.__a = a\n",
        "    self.__b = b\n",
        "  \n",
        "  def add(self):\n",
        "    return self.__a + self.__b\n",
        "\n",
        "foo_object = foo(3,4)\n",
        "foo_object.add()\n",
        "foo_object.__a = 5\n",
        "foo_object.add()"
      ],
      "metadata": {
        "colab": {
          "base_uri": "https://localhost:8080/"
        },
        "id": "KO-Y_L-daWqi",
        "outputId": "5ff0a3cc-b805-4916-af66-1e6a5774a0f4"
      },
      "execution_count": 48,
      "outputs": [
        {
          "output_type": "execute_result",
          "data": {
            "text/plain": [
              "7"
            ]
          },
          "metadata": {},
          "execution_count": 48
        }
      ]
    },
    {
      "cell_type": "code",
      "source": [
        "class Counter:\n",
        "\n",
        "  def __init__(self):\n",
        "    self.__current = 0\n",
        "  \n",
        "  def increment(self):\n",
        "    self.__current += 1\n",
        "\n",
        "  def value(self):\n",
        "    return self.__current\n",
        "  \n",
        "  def reset(self):\n",
        "    self.__current = 0"
      ],
      "metadata": {
        "id": "eMuT2v-dcEVf"
      },
      "execution_count": 30,
      "outputs": []
    },
    {
      "cell_type": "code",
      "source": [
        "#Inheritance\n",
        "\n",
        "class Person:\n",
        "\n",
        "  def __init__(self,name,birthdate):\n",
        "    self.name = name\n",
        "    self.birthdate = birthdate\n",
        "\n",
        "  def display(self):\n",
        "    print(\"My name is\", self.name)\n",
        "    print(\"My birthdate is\", self.birthdate)\n",
        "\n",
        "class Student(Person):\n",
        "  pass\n",
        "class Teacher(Person):\n",
        "  pass\n",
        "\n",
        "student = Person(\"James\", \"October 11, 2002\")\n",
        "student.display()\n",
        "\n",
        "teacher = Teacher(\"Jim\", \"October 12, 2002\")\n",
        "teacher.display()"
      ],
      "metadata": {
        "colab": {
          "base_uri": "https://localhost:8080/"
        },
        "id": "CuLFDK7DeC0l",
        "outputId": "829f1034-fa12-4e4d-c05e-64c6a58c45c8"
      },
      "execution_count": 35,
      "outputs": [
        {
          "output_type": "stream",
          "name": "stdout",
          "text": [
            "My name is James\n",
            "My birthdate is October 11, 2002\n",
            "My name is Jim\n",
            "My birthdate is October 12, 2002\n"
          ]
        }
      ]
    },
    {
      "cell_type": "code",
      "source": [
        "#Create a super class name Shapes\n",
        "#attributes sides\n",
        "#Create a function/method that displays the no. of sides of each shape\n",
        "#apply inheritance and encapsulation\n",
        "\n",
        "\n",
        "class Shapes:\n",
        "\n",
        "  def __init__(self, name, side):\n",
        "    self.__side = side\n",
        "    self.__name = name\n",
        "\n",
        "  def display(self):\n",
        "    print(f\"Shape:\", self.__name)\n",
        "    print(f\"Sides:\", self.__side, \"sides\")\n",
        "\n",
        "class Triangle(Shapes):\n",
        "  pass\n",
        "\n",
        "class Quadrilateral(Shapes):\n",
        "  pass\n",
        "\n",
        "class Pentagon(Shapes):\n",
        "  pass\n",
        "\n",
        "class Hexagon(Shapes):\n",
        "  pass\n",
        "\n",
        "class Heptagon(Shapes):\n",
        "  pass\n",
        "\n",
        "triangle = Shapes(\"Triangle\", \"3\" )\n",
        "triangle.display()\n",
        "Shapes.__side = 5\n",
        "Shapes.__name = \"Mama mo\"\n",
        "\n",
        "square = Shapes(\"Square\", \"4\")\n",
        "square.display()\n",
        "Shapes.__side = 1\n",
        "Shapes.__name = \"Papa mo\"\n",
        "\n",
        "pentagon = Shapes(\"Pentagon\", \"5\")\n",
        "pentagon.display()\n",
        "Shapes.__side = 2\n",
        "Shapes.__name = \"Kuya mo\"\n",
        "\n",
        "hexagon = Shapes(\"Hexagon\", \"6\")\n",
        "hexagon.display()\n",
        "Shapes.__side = 4\n",
        "Shapes.__name = \"Ate mo\"\n",
        "\n",
        "heptagon = Shapes(\"Heptagon\", \"7\")\n",
        "heptagon.display()\n",
        "Shapes.__side = 8\n",
        "Shapes.__name = \"Sorry\"\n"
      ],
      "metadata": {
        "colab": {
          "base_uri": "https://localhost:8080/"
        },
        "id": "JzrEhSKHgg8A",
        "outputId": "521dad5e-df9d-4234-c316-3e430654b87e"
      },
      "execution_count": 59,
      "outputs": [
        {
          "output_type": "stream",
          "name": "stdout",
          "text": [
            "Shape: Triangle\n",
            "Sides: 3 sides\n",
            "Shape: Square\n",
            "Sides: 4 sides\n",
            "Shape: Pentagon\n",
            "Sides: 5 sides\n",
            "Shape: Hexagon\n",
            "Sides: 6 sides\n",
            "Shape: Heptagon\n",
            "Sides: 7 sides\n"
          ]
        }
      ]
    },
    {
      "cell_type": "code",
      "source": [
        "class foo:\n",
        "  \n",
        "  def __init__(self, a, b):\n",
        "    self.__a = a\n",
        "    self.__b = b\n",
        "  \n",
        "  def add(self):\n",
        "    return self.__a + self.__b\n",
        "\n",
        "foo_object = foo(3,4)\n",
        "foo_object.add()\n",
        "foo_object.__a = 5\n",
        "foo_object.add()"
      ],
      "metadata": {
        "id": "_E4VQ1xRpyRP"
      },
      "execution_count": null,
      "outputs": []
    }
  ]
}